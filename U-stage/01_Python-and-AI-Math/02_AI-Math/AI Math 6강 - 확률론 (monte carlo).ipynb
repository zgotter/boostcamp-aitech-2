{
 "cells": [
  {
   "cell_type": "markdown",
   "id": "d0a6a44b-1fdc-4eca-aa9f-2f210bedf19e",
   "metadata": {},
   "source": [
    "함수 $f(x) = e^{-x^2}$ 의 $[-1,1]$ 상에서 적분값"
   ]
  },
  {
   "cell_type": "code",
   "execution_count": 1,
   "id": "bbacc8ba-16b4-4c14-969b-132fdd2295ad",
   "metadata": {
    "execution": {
     "iopub.execute_input": "2021-06-02T11:08:01.637561Z",
     "iopub.status.busy": "2021-06-02T11:08:01.637561Z",
     "iopub.status.idle": "2021-06-02T11:08:01.934561Z",
     "shell.execute_reply": "2021-06-02T11:08:01.933558Z",
     "shell.execute_reply.started": "2021-06-02T11:08:01.637561Z"
    }
   },
   "outputs": [
    {
     "name": "stdout",
     "output_type": "stream",
     "text": [
      "(1.4939987699660235, 0.004011312948399921)\n"
     ]
    }
   ],
   "source": [
    "import numpy as np\n",
    "\n",
    "def mc_int(fun, low, high, sample_size=100, repeat=10):\n",
    "    int_len = np.abs(high - low)\n",
    "    stat = []\n",
    "    for _ in range(repeat):\n",
    "        x = np.random.uniform(low=low, high=high, size=sample_size)\n",
    "        fun_x = fun(x)\n",
    "        int_val = int_len * np.mean(fun_x)\n",
    "        stat.append(int_val)\n",
    "    return np.mean(stat), np.std(stat)\n",
    "        \n",
    "def f_x(x):\n",
    "    return np.exp(-x**2)\n",
    "\n",
    "print(mc_int(f_x, low=-1, high=1, sample_size=10000, repeat=100))"
   ]
  },
  {
   "cell_type": "markdown",
   "id": "de656fd6-449f-49f1-b393-2bfa8efbe9a2",
   "metadata": {},
   "source": [
    "원주율의 근사값"
   ]
  },
  {
   "cell_type": "code",
   "execution_count": 2,
   "id": "4213e845-79c5-4cbb-915c-7d10b9aa7789",
   "metadata": {
    "execution": {
     "iopub.execute_input": "2021-06-02T11:22:49.343176Z",
     "iopub.status.busy": "2021-06-02T11:22:49.342144Z",
     "iopub.status.idle": "2021-06-02T11:22:49.371145Z",
     "shell.execute_reply": "2021-06-02T11:22:49.370177Z",
     "shell.execute_reply.started": "2021-06-02T11:22:49.343176Z"
    }
   },
   "outputs": [
    {
     "data": {
      "text/plain": [
       "3.136"
      ]
     },
     "execution_count": 2,
     "metadata": {},
     "output_type": "execute_result"
    }
   ],
   "source": [
    "import random\n",
    "\n",
    "n = 1000\n",
    "count = 0\n",
    "for i in range(n):\n",
    "    x, y = random.random(), random.random() # 0 ~ 1 사이의 난수\n",
    "    if (x**2 + y**2 < 1):\n",
    "        count += 1\n",
    "        \n",
    "a = 4*count/n # count/n 이 원의 1/4 에 해당하는 값이므로 4를 곱해준다.\n",
    "a"
   ]
  },
  {
   "cell_type": "code",
   "execution_count": null,
   "id": "096bee66-b1ba-4284-9699-f951f6acd07c",
   "metadata": {},
   "outputs": [],
   "source": []
  }
 ],
 "metadata": {
  "kernelspec": {
   "display_name": "Python 3",
   "language": "python",
   "name": "python3"
  },
  "language_info": {
   "codemirror_mode": {
    "name": "ipython",
    "version": 3
   },
   "file_extension": ".py",
   "mimetype": "text/x-python",
   "name": "python",
   "nbconvert_exporter": "python",
   "pygments_lexer": "ipython3",
   "version": "3.8.10"
  }
 },
 "nbformat": 4,
 "nbformat_minor": 5
}
